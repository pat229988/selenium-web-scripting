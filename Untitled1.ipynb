{
 "cells": [
  {
   "cell_type": "code",
   "execution_count": 11,
   "id": "c48b74af",
   "metadata": {},
   "outputs": [
    {
     "name": "stderr",
     "output_type": "stream",
     "text": [
      "C:\\Users\\D10B2~1.PAT\\AppData\\Local\\Temp/ipykernel_5640/873758004.py:13: DeprecationWarning: executable_path has been deprecated, please pass in a Service object\n",
      "  driver = webdriver.Chrome(options = chrome_options,desired_capabilities=caps,executable_path=r\"C:\\Users\\D. Patel\\selenium-web-scripting\\chromedriver.exe\")\n",
      "C:\\Users\\D10B2~1.PAT\\AppData\\Local\\Temp/ipykernel_5640/873758004.py:17: DeprecationWarning: find_element_by_* commands are deprecated. Please use find_element() instead\n",
      "  driver.find_element_by_xpath('/html/body/div[1]/div[2]/div[1]/div[3]/form/div[1]/div[1]/div/input').click()\n",
      "C:\\Users\\D10B2~1.PAT\\AppData\\Local\\Temp/ipykernel_5640/873758004.py:18: DeprecationWarning: find_element_by_* commands are deprecated. Please use find_element() instead\n",
      "  driver.find_element_by_xpath('/html/body/div[1]/div[2]/div[1]/div[3]/form/div[1]/div[1]/div/input').send_keys(username)\n",
      "C:\\Users\\D10B2~1.PAT\\AppData\\Local\\Temp/ipykernel_5640/873758004.py:19: DeprecationWarning: find_element_by_* commands are deprecated. Please use find_element() instead\n",
      "  driver.find_element_by_xpath('/html/body/div[1]/div[2]/div[1]/div[3]/form/div[1]/div[2]/div/input').click()\n",
      "C:\\Users\\D10B2~1.PAT\\AppData\\Local\\Temp/ipykernel_5640/873758004.py:20: DeprecationWarning: find_element_by_* commands are deprecated. Please use find_element() instead\n",
      "  driver.find_element_by_xpath('/html/body/div[1]/div[2]/div[1]/div[3]/form/div[1]/div[2]/div/input').send_keys(password)\n",
      "C:\\Users\\D10B2~1.PAT\\AppData\\Local\\Temp/ipykernel_5640/873758004.py:21: DeprecationWarning: find_element_by_* commands are deprecated. Please use find_element() instead\n",
      "  driver.find_element_by_xpath('/html/body/div[1]/div[2]/div[1]/div[3]/form/div[2]/div/input').click()\n"
     ]
    }
   ],
   "source": [
    "from selenium import webdriver\n",
    "from time import sleep\n",
    "from selenium.webdriver.chrome.options import Options\n",
    "\n",
    "username =\"fortynighta@gmail.com\"\n",
    "password =\"give it to me\"\n",
    "\n",
    "chrome_options = webdriver.ChromeOptions()\n",
    "chrome_options.add_experimental_option(\"useAutomationExtension\", False)\n",
    "chrome_options.add_experimental_option(\"excludeSwitches\", [\"enable-automation\"])\n",
    "#chrome_options.add_argument(\"--headless\")\n",
    "caps = chrome_options.to_capabilities()\n",
    "driver = webdriver.Chrome(options = chrome_options,desired_capabilities=caps,executable_path=r\"C:\\Users\\D. Patel\\selenium-web-scripting\\chromedriver.exe\")\n",
    "driver.get('https://www.udemy.com/join/login-popup/')\n",
    "driver.maximize_window()\n",
    "sleep(3)\n",
    "driver.find_element_by_xpath('/html/body/div[1]/div[2]/div[1]/div[3]/form/div[1]/div[1]/div/input').click()\n",
    "driver.find_element_by_xpath('/html/body/div[1]/div[2]/div[1]/div[3]/form/div[1]/div[1]/div/input').send_keys(username)\n",
    "driver.find_element_by_xpath('/html/body/div[1]/div[2]/div[1]/div[3]/form/div[1]/div[2]/div/input').click()\n",
    "driver.find_element_by_xpath('/html/body/div[1]/div[2]/div[1]/div[3]/form/div[1]/div[2]/div/input').send_keys(password)\n",
    "driver.find_element_by_xpath('/html/body/div[1]/div[2]/div[1]/div[3]/form/div[2]/div/input').click()"
   ]
  },
  {
   "cell_type": "code",
   "execution_count": null,
   "id": "5bfa6433",
   "metadata": {},
   "outputs": [],
   "source": []
  }
 ],
 "metadata": {
  "kernelspec": {
   "display_name": "Python 3 (ipykernel)",
   "language": "python",
   "name": "python3"
  },
  "language_info": {
   "codemirror_mode": {
    "name": "ipython",
    "version": 3
   },
   "file_extension": ".py",
   "mimetype": "text/x-python",
   "name": "python",
   "nbconvert_exporter": "python",
   "pygments_lexer": "ipython3",
   "version": "3.9.7"
  }
 },
 "nbformat": 4,
 "nbformat_minor": 5
}
