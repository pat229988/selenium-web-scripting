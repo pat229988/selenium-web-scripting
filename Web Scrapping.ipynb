{
 "cells": [
  {
   "cell_type": "code",
   "execution_count": null,
   "metadata": {},
   "outputs": [],
   "source": [
    "pip install requests"
   ]
  },
  {
   "cell_type": "code",
   "execution_count": null,
   "metadata": {},
   "outputs": [],
   "source": [
    "pip install beautifulsoup4"
   ]
  },
  {
   "cell_type": "code",
   "execution_count": 18,
   "metadata": {},
   "outputs": [
    {
     "name": "stdout",
     "output_type": "stream",
     "text": [
      "<div id=\"root\"></div>\n"
     ]
    }
   ],
   "source": [
    "import requests\n",
    "import bs4\n",
    "\n",
    "res= requests.get('https://www.covid19india.org')\n",
    "res.text\n",
    "\n",
    "soup= bs4.BeautifulSoup(res.text, 'html.parser')\n",
    "rows= soup.find('div')\n",
    "print(rows)\n",
    "# hi= soup.select('title')\n",
    "# hi[0].getText()"
   ]
  },
  {
   "cell_type": "code",
   "execution_count": 20,
   "metadata": {},
   "outputs": [
    {
     "name": "stdout",
     "output_type": "stream",
     "text": [
      "states:  []\n"
     ]
    }
   ],
   "source": [
    "from lxml import html\n",
    "import requests\n",
    "page = requests.get('https://www.covid19india.org/')\n",
    "tree = html.fromstring(page.content)\n",
    "# print(page.content)\n",
    "\n",
    "states= tree.xpath('//*[@id=\"root\"]/div/div[3]/div[1]/div[2]/div[2]/div[1]')\n",
    "print('states: ', states)"
   ]
  },
  {
   "cell_type": "code",
   "execution_count": 4,
   "metadata": {},
   "outputs": [
    {
     "name": "stdout",
     "output_type": "stream",
     "text": [
      "Wikipedia - Wikipedia\n",
      "<title>Wikipedia - Wikipedia</title>\n"
     ]
    },
    {
     "data": {
      "text/plain": [
       "<div class=\"noprint\" id=\"mw-page-base\"></div>"
      ]
     },
     "execution_count": 4,
     "metadata": {},
     "output_type": "execute_result"
    }
   ],
   "source": [
    "import bs4\n",
    "import requests\n",
    "url= \"https://en.wikipedia.org/wiki/Wikipedia\"\n",
    "html_cont=requests.get(url).text\n",
    "#print(html_cont)\n",
    "soup=bs4.BeautifulSoup(html_cont, \"lxml\")\n",
    "# print(soup.prettify())\n",
    "print(soup.title.text)\n",
    "print(soup.title)\n",
    "soup.find(\"div\")"
   ]
  },
  {
   "cell_type": "code",
   "execution_count": null,
   "metadata": {},
   "outputs": [],
   "source": [
    "pip install csv"
   ]
  },
  {
   "cell_type": "code",
   "execution_count": 1,
   "metadata": {},
   "outputs": [
    {
     "ename": "NoSuchElementException",
     "evalue": "Message: Unable to locate element: /html/body/div/div[2]/form/div[2]/div/div[2]/div[1]/div/div/div[2]/div/div[1]/div/div[1]/input\n",
     "output_type": "error",
     "traceback": [
      "\u001b[1;31m---------------------------------------------------------------------------\u001b[0m",
      "\u001b[1;31mNoSuchElementException\u001b[0m                    Traceback (most recent call last)",
      "\u001b[1;32m<ipython-input-1-9cd8c114fd7e>\u001b[0m in \u001b[0;36m<module>\u001b[1;34m\u001b[0m\n\u001b[0;32m      7\u001b[0m \u001b[0mdriver\u001b[0m\u001b[1;33m.\u001b[0m\u001b[0mmaximize_window\u001b[0m\u001b[1;33m(\u001b[0m\u001b[1;33m)\u001b[0m\u001b[1;33m\u001b[0m\u001b[1;33m\u001b[0m\u001b[0m\n\u001b[0;32m      8\u001b[0m \u001b[0mdriver\u001b[0m\u001b[1;33m.\u001b[0m\u001b[0mget\u001b[0m\u001b[1;33m(\u001b[0m\u001b[1;34m\"https://docs.google.com/forms/d/e/1FAIpQLSfMNIxV980JFjZ639Z-yzmMqKVrC37oXVbEjzbboniyBhK_sw/viewform\"\u001b[0m\u001b[1;33m)\u001b[0m\u001b[1;33m\u001b[0m\u001b[1;33m\u001b[0m\u001b[0m\n\u001b[1;32m----> 9\u001b[1;33m \u001b[0mdriver\u001b[0m\u001b[1;33m.\u001b[0m\u001b[0mfind_element_by_xpath\u001b[0m\u001b[1;33m(\u001b[0m\u001b[1;34m\"/html/body/div/div[2]/form/div[2]/div/div[2]/div[1]/div/div/div[2]/div/div[1]/div/div[1]/input\"\u001b[0m\u001b[1;33m)\u001b[0m\u001b[1;33m.\u001b[0m\u001b[0msend_keys\u001b[0m\u001b[1;33m(\u001b[0m\u001b[1;34m\"Siddhid\"\u001b[0m\u001b[1;33m)\u001b[0m\u001b[1;33m\u001b[0m\u001b[1;33m\u001b[0m\u001b[0m\n\u001b[0m\u001b[0;32m     10\u001b[0m \u001b[0mtime\u001b[0m\u001b[1;33m.\u001b[0m\u001b[0msleep\u001b[0m\u001b[1;33m(\u001b[0m\u001b[1;36m2\u001b[0m\u001b[1;33m)\u001b[0m\u001b[1;33m\u001b[0m\u001b[1;33m\u001b[0m\u001b[0m\n\u001b[0;32m     11\u001b[0m \u001b[0mdriver\u001b[0m\u001b[1;33m.\u001b[0m\u001b[0mfind_element_by_xpath\u001b[0m\u001b[1;33m(\u001b[0m\u001b[1;34m\"/html/body/div/div[2]/form/div[2]/div/div[2]/div[2]/div/div/div[2]/div/div[1]/div/div[1]/input\"\u001b[0m\u001b[1;33m)\u001b[0m\u001b[1;33m.\u001b[0m\u001b[0msend_keys\u001b[0m\u001b[1;33m(\u001b[0m\u001b[1;34m\"gopujkarsiddhid@gmail.com\"\u001b[0m\u001b[1;33m)\u001b[0m\u001b[1;33m\u001b[0m\u001b[1;33m\u001b[0m\u001b[0m\n",
      "\u001b[1;32m~\\Anaconda3\\lib\\site-packages\\selenium\\webdriver\\remote\\webdriver.py\u001b[0m in \u001b[0;36mfind_element_by_xpath\u001b[1;34m(self, xpath)\u001b[0m\n\u001b[0;32m    392\u001b[0m             \u001b[0melement\u001b[0m \u001b[1;33m=\u001b[0m \u001b[0mdriver\u001b[0m\u001b[1;33m.\u001b[0m\u001b[0mfind_element_by_xpath\u001b[0m\u001b[1;33m(\u001b[0m\u001b[1;34m'//div/td[1]'\u001b[0m\u001b[1;33m)\u001b[0m\u001b[1;33m\u001b[0m\u001b[1;33m\u001b[0m\u001b[0m\n\u001b[0;32m    393\u001b[0m         \"\"\"\n\u001b[1;32m--> 394\u001b[1;33m         \u001b[1;32mreturn\u001b[0m \u001b[0mself\u001b[0m\u001b[1;33m.\u001b[0m\u001b[0mfind_element\u001b[0m\u001b[1;33m(\u001b[0m\u001b[0mby\u001b[0m\u001b[1;33m=\u001b[0m\u001b[0mBy\u001b[0m\u001b[1;33m.\u001b[0m\u001b[0mXPATH\u001b[0m\u001b[1;33m,\u001b[0m \u001b[0mvalue\u001b[0m\u001b[1;33m=\u001b[0m\u001b[0mxpath\u001b[0m\u001b[1;33m)\u001b[0m\u001b[1;33m\u001b[0m\u001b[1;33m\u001b[0m\u001b[0m\n\u001b[0m\u001b[0;32m    395\u001b[0m \u001b[1;33m\u001b[0m\u001b[0m\n\u001b[0;32m    396\u001b[0m     \u001b[1;32mdef\u001b[0m \u001b[0mfind_elements_by_xpath\u001b[0m\u001b[1;33m(\u001b[0m\u001b[0mself\u001b[0m\u001b[1;33m,\u001b[0m \u001b[0mxpath\u001b[0m\u001b[1;33m)\u001b[0m\u001b[1;33m:\u001b[0m\u001b[1;33m\u001b[0m\u001b[1;33m\u001b[0m\u001b[0m\n",
      "\u001b[1;32m~\\Anaconda3\\lib\\site-packages\\selenium\\webdriver\\remote\\webdriver.py\u001b[0m in \u001b[0;36mfind_element\u001b[1;34m(self, by, value)\u001b[0m\n\u001b[0;32m    976\u001b[0m         return self.execute(Command.FIND_ELEMENT, {\n\u001b[0;32m    977\u001b[0m             \u001b[1;34m'using'\u001b[0m\u001b[1;33m:\u001b[0m \u001b[0mby\u001b[0m\u001b[1;33m,\u001b[0m\u001b[1;33m\u001b[0m\u001b[1;33m\u001b[0m\u001b[0m\n\u001b[1;32m--> 978\u001b[1;33m             'value': value})['value']\n\u001b[0m\u001b[0;32m    979\u001b[0m \u001b[1;33m\u001b[0m\u001b[0m\n\u001b[0;32m    980\u001b[0m     \u001b[1;32mdef\u001b[0m \u001b[0mfind_elements\u001b[0m\u001b[1;33m(\u001b[0m\u001b[0mself\u001b[0m\u001b[1;33m,\u001b[0m \u001b[0mby\u001b[0m\u001b[1;33m=\u001b[0m\u001b[0mBy\u001b[0m\u001b[1;33m.\u001b[0m\u001b[0mID\u001b[0m\u001b[1;33m,\u001b[0m \u001b[0mvalue\u001b[0m\u001b[1;33m=\u001b[0m\u001b[1;32mNone\u001b[0m\u001b[1;33m)\u001b[0m\u001b[1;33m:\u001b[0m\u001b[1;33m\u001b[0m\u001b[1;33m\u001b[0m\u001b[0m\n",
      "\u001b[1;32m~\\Anaconda3\\lib\\site-packages\\selenium\\webdriver\\remote\\webdriver.py\u001b[0m in \u001b[0;36mexecute\u001b[1;34m(self, driver_command, params)\u001b[0m\n\u001b[0;32m    319\u001b[0m         \u001b[0mresponse\u001b[0m \u001b[1;33m=\u001b[0m \u001b[0mself\u001b[0m\u001b[1;33m.\u001b[0m\u001b[0mcommand_executor\u001b[0m\u001b[1;33m.\u001b[0m\u001b[0mexecute\u001b[0m\u001b[1;33m(\u001b[0m\u001b[0mdriver_command\u001b[0m\u001b[1;33m,\u001b[0m \u001b[0mparams\u001b[0m\u001b[1;33m)\u001b[0m\u001b[1;33m\u001b[0m\u001b[1;33m\u001b[0m\u001b[0m\n\u001b[0;32m    320\u001b[0m         \u001b[1;32mif\u001b[0m \u001b[0mresponse\u001b[0m\u001b[1;33m:\u001b[0m\u001b[1;33m\u001b[0m\u001b[1;33m\u001b[0m\u001b[0m\n\u001b[1;32m--> 321\u001b[1;33m             \u001b[0mself\u001b[0m\u001b[1;33m.\u001b[0m\u001b[0merror_handler\u001b[0m\u001b[1;33m.\u001b[0m\u001b[0mcheck_response\u001b[0m\u001b[1;33m(\u001b[0m\u001b[0mresponse\u001b[0m\u001b[1;33m)\u001b[0m\u001b[1;33m\u001b[0m\u001b[1;33m\u001b[0m\u001b[0m\n\u001b[0m\u001b[0;32m    322\u001b[0m             response['value'] = self._unwrap_value(\n\u001b[0;32m    323\u001b[0m                 response.get('value', None))\n",
      "\u001b[1;32m~\\Anaconda3\\lib\\site-packages\\selenium\\webdriver\\remote\\errorhandler.py\u001b[0m in \u001b[0;36mcheck_response\u001b[1;34m(self, response)\u001b[0m\n\u001b[0;32m    240\u001b[0m                 \u001b[0malert_text\u001b[0m \u001b[1;33m=\u001b[0m \u001b[0mvalue\u001b[0m\u001b[1;33m[\u001b[0m\u001b[1;34m'alert'\u001b[0m\u001b[1;33m]\u001b[0m\u001b[1;33m.\u001b[0m\u001b[0mget\u001b[0m\u001b[1;33m(\u001b[0m\u001b[1;34m'text'\u001b[0m\u001b[1;33m)\u001b[0m\u001b[1;33m\u001b[0m\u001b[1;33m\u001b[0m\u001b[0m\n\u001b[0;32m    241\u001b[0m             \u001b[1;32mraise\u001b[0m \u001b[0mexception_class\u001b[0m\u001b[1;33m(\u001b[0m\u001b[0mmessage\u001b[0m\u001b[1;33m,\u001b[0m \u001b[0mscreen\u001b[0m\u001b[1;33m,\u001b[0m \u001b[0mstacktrace\u001b[0m\u001b[1;33m,\u001b[0m \u001b[0malert_text\u001b[0m\u001b[1;33m)\u001b[0m\u001b[1;33m\u001b[0m\u001b[1;33m\u001b[0m\u001b[0m\n\u001b[1;32m--> 242\u001b[1;33m         \u001b[1;32mraise\u001b[0m \u001b[0mexception_class\u001b[0m\u001b[1;33m(\u001b[0m\u001b[0mmessage\u001b[0m\u001b[1;33m,\u001b[0m \u001b[0mscreen\u001b[0m\u001b[1;33m,\u001b[0m \u001b[0mstacktrace\u001b[0m\u001b[1;33m)\u001b[0m\u001b[1;33m\u001b[0m\u001b[1;33m\u001b[0m\u001b[0m\n\u001b[0m\u001b[0;32m    243\u001b[0m \u001b[1;33m\u001b[0m\u001b[0m\n\u001b[0;32m    244\u001b[0m     \u001b[1;32mdef\u001b[0m \u001b[0m_value_or_default\u001b[0m\u001b[1;33m(\u001b[0m\u001b[0mself\u001b[0m\u001b[1;33m,\u001b[0m \u001b[0mobj\u001b[0m\u001b[1;33m,\u001b[0m \u001b[0mkey\u001b[0m\u001b[1;33m,\u001b[0m \u001b[0mdefault\u001b[0m\u001b[1;33m)\u001b[0m\u001b[1;33m:\u001b[0m\u001b[1;33m\u001b[0m\u001b[1;33m\u001b[0m\u001b[0m\n",
      "\u001b[1;31mNoSuchElementException\u001b[0m: Message: Unable to locate element: /html/body/div/div[2]/form/div[2]/div/div[2]/div[1]/div/div/div[2]/div/div[1]/div/div[1]/input\n"
     ]
    }
   ],
   "source": [
    "#import Selenium as se\n",
    "from selenium import webdriver \n",
    "from selenium.webdriver.common.keys import Keys  \n",
    "\n",
    "driver = webdriver.Firefox(executable_path=r\"F:\\geckodriver-v0.27.0-win64\\geckodriver.exe\")\n",
    "driver.fullscreen_window()\n",
    "driver.maximize_window()\n",
    "driver.get(\"https://docs.google.com/forms/d/e/1FAIpQLSfMNIxV980JFjZ639Z-yzmMqKVrC37oXVbEjzbboniyBhK_sw/viewform\")\n",
    "driver.find_element_by_xpath(\"/html/body/div/div[2]/form/div[2]/div/div[2]/div[1]/div/div/div[2]/div/div[1]/div/div[1]/input\").send_keys(\"Siddhid\")\n",
    "time.sleep(2) \n",
    "driver.find_element_by_xpath(\"/html/body/div/div[2]/form/div[2]/div/div[2]/div[2]/div/div/div[2]/div/div[1]/div/div[1]/input\").send_keys(\"gopujkarsiddhid@gmail.com\")\n",
    "time.sleep(2) \n",
    "driver.find_element_by_xpath(\"/html/body/div/div[2]/form/div[2]/div/div[3]/div[1]/div/div/span/span\").click()\n",
    "time.sleep(2) \n"
   ]
  },
  {
   "cell_type": "code",
   "execution_count": null,
   "metadata": {},
   "outputs": [],
   "source": [
    "from selenium import webdriver\n",
    "from selenium.webdriver.common.desired_capabilities import DesiredCapabilities\n",
    "\n",
    "cap = DesiredCapabilities().FIREFOX\n",
    "cap[\"marionette\"] = False\n",
    "browser = webdriver.Firefox(capabilities=cap, executable_path=r\"F:\\\\gecko_d\\\\geckodriver.exe\")\n",
    "browser.get('http://google.com/')\n"
   ]
  },
  {
   "cell_type": "code",
   "execution_count": 5,
   "metadata": {
    "scrolled": true
   },
   "outputs": [
    {
     "name": "stdout",
     "output_type": "stream",
     "text": [
      "sample test case started\n",
      "sample test case successfully completed\n"
     ]
    }
   ],
   "source": [
    "from selenium import webdriver  \n",
    "import time  \n",
    "from selenium.webdriver.common.keys import Keys  \n",
    "print(\"sample test case started\")  \n",
    "driver = webdriver.Firefox(executable_path=r\"F:\\geckodriver-v0.27.0-win64\\geckodriver.exe\")\n",
    "#driver= webdriver.Chrome(\"C:\\Program Files (x86)\\Google\\Chrome\\chromedriver.exe\")\n",
    "#driver= webdriver.Chrome(\"C:\\Program Files (x86)\\Google\\Chrome\\Application\\chrome.exe\")\n",
    "#driver=webdriver.firefox()  \n",
    "#driver=webdriver.ie()  \n",
    "#maximize the window size  \n",
    "#driver.maximize_window()  \n",
    "#navigate to the url  \n",
    "driver.get(\"https://www.google.com\")  \n",
    "#identify the Google search text box and enter the value  \n",
    "driver.find_element_by_name(\"q\").send_keys(\"javatpoint\")  \n",
    "time.sleep(3)  \n",
    "#click on the Google search button  \n",
    "driver.find_element_by_name(\"btnK\").send_keys(Keys.ENTER)  \n",
    "time.sleep(3)  \n",
    "#close the browser  \n",
    "# driver.close()  \n",
    "print(\"sample test case successfully completed\")  "
   ]
  },
  {
   "cell_type": "code",
   "execution_count": 2,
   "metadata": {},
   "outputs": [
    {
     "name": "stdout",
     "output_type": "stream",
     "text": [
      "test case started\n"
     ]
    },
    {
     "ename": "NoSuchElementException",
     "evalue": "Message: no such element: Unable to locate element: {\"method\":\"css selector\",\"selector\":\"[id=\"email\"]\"}\n  (Session info: chrome=84.0.4147.135)\n",
     "output_type": "error",
     "traceback": [
      "\u001b[1;31m---------------------------------------------------------------------------\u001b[0m",
      "\u001b[1;31mNoSuchElementException\u001b[0m                    Traceback (most recent call last)",
      "\u001b[1;32m<ipython-input-2-c38e3a49b21f>\u001b[0m in \u001b[0;36m<module>\u001b[1;34m\u001b[0m\n\u001b[0;32m     10\u001b[0m \u001b[0mdriver\u001b[0m\u001b[1;33m.\u001b[0m\u001b[0mget\u001b[0m\u001b[1;33m(\u001b[0m\u001b[1;34m\"https://www.gmail.com/\"\u001b[0m\u001b[1;33m)\u001b[0m\u001b[1;33m\u001b[0m\u001b[1;33m\u001b[0m\u001b[0m\n\u001b[0;32m     11\u001b[0m \u001b[1;31m#identify the user name text box and enter the value\u001b[0m\u001b[1;33m\u001b[0m\u001b[1;33m\u001b[0m\u001b[1;33m\u001b[0m\u001b[0m\n\u001b[1;32m---> 12\u001b[1;33m \u001b[0mdriver\u001b[0m\u001b[1;33m.\u001b[0m\u001b[0mfind_element_by_id\u001b[0m\u001b[1;33m(\u001b[0m\u001b[1;34m\"email\"\u001b[0m\u001b[1;33m)\u001b[0m\u001b[1;33m.\u001b[0m\u001b[0msend_keys\u001b[0m\u001b[1;33m(\u001b[0m\u001b[1;34m\"svgopujkar@gmail.com\"\u001b[0m\u001b[1;33m)\u001b[0m\u001b[1;33m\u001b[0m\u001b[1;33m\u001b[0m\u001b[0m\n\u001b[0m\u001b[0;32m     13\u001b[0m \u001b[0mtime\u001b[0m\u001b[1;33m.\u001b[0m\u001b[0msleep\u001b[0m\u001b[1;33m(\u001b[0m\u001b[1;36m2\u001b[0m\u001b[1;33m)\u001b[0m\u001b[1;33m\u001b[0m\u001b[1;33m\u001b[0m\u001b[0m\n\u001b[0;32m     14\u001b[0m \u001b[1;31m#click on the next button\u001b[0m\u001b[1;33m\u001b[0m\u001b[1;33m\u001b[0m\u001b[1;33m\u001b[0m\u001b[0m\n",
      "\u001b[1;32m~\\Anaconda3\\lib\\site-packages\\selenium\\webdriver\\remote\\webdriver.py\u001b[0m in \u001b[0;36mfind_element_by_id\u001b[1;34m(self, id_)\u001b[0m\n\u001b[0;32m    358\u001b[0m             \u001b[0melement\u001b[0m \u001b[1;33m=\u001b[0m \u001b[0mdriver\u001b[0m\u001b[1;33m.\u001b[0m\u001b[0mfind_element_by_id\u001b[0m\u001b[1;33m(\u001b[0m\u001b[1;34m'foo'\u001b[0m\u001b[1;33m)\u001b[0m\u001b[1;33m\u001b[0m\u001b[1;33m\u001b[0m\u001b[0m\n\u001b[0;32m    359\u001b[0m         \"\"\"\n\u001b[1;32m--> 360\u001b[1;33m         \u001b[1;32mreturn\u001b[0m \u001b[0mself\u001b[0m\u001b[1;33m.\u001b[0m\u001b[0mfind_element\u001b[0m\u001b[1;33m(\u001b[0m\u001b[0mby\u001b[0m\u001b[1;33m=\u001b[0m\u001b[0mBy\u001b[0m\u001b[1;33m.\u001b[0m\u001b[0mID\u001b[0m\u001b[1;33m,\u001b[0m \u001b[0mvalue\u001b[0m\u001b[1;33m=\u001b[0m\u001b[0mid_\u001b[0m\u001b[1;33m)\u001b[0m\u001b[1;33m\u001b[0m\u001b[1;33m\u001b[0m\u001b[0m\n\u001b[0m\u001b[0;32m    361\u001b[0m \u001b[1;33m\u001b[0m\u001b[0m\n\u001b[0;32m    362\u001b[0m     \u001b[1;32mdef\u001b[0m \u001b[0mfind_elements_by_id\u001b[0m\u001b[1;33m(\u001b[0m\u001b[0mself\u001b[0m\u001b[1;33m,\u001b[0m \u001b[0mid_\u001b[0m\u001b[1;33m)\u001b[0m\u001b[1;33m:\u001b[0m\u001b[1;33m\u001b[0m\u001b[1;33m\u001b[0m\u001b[0m\n",
      "\u001b[1;32m~\\Anaconda3\\lib\\site-packages\\selenium\\webdriver\\remote\\webdriver.py\u001b[0m in \u001b[0;36mfind_element\u001b[1;34m(self, by, value)\u001b[0m\n\u001b[0;32m    976\u001b[0m         return self.execute(Command.FIND_ELEMENT, {\n\u001b[0;32m    977\u001b[0m             \u001b[1;34m'using'\u001b[0m\u001b[1;33m:\u001b[0m \u001b[0mby\u001b[0m\u001b[1;33m,\u001b[0m\u001b[1;33m\u001b[0m\u001b[1;33m\u001b[0m\u001b[0m\n\u001b[1;32m--> 978\u001b[1;33m             'value': value})['value']\n\u001b[0m\u001b[0;32m    979\u001b[0m \u001b[1;33m\u001b[0m\u001b[0m\n\u001b[0;32m    980\u001b[0m     \u001b[1;32mdef\u001b[0m \u001b[0mfind_elements\u001b[0m\u001b[1;33m(\u001b[0m\u001b[0mself\u001b[0m\u001b[1;33m,\u001b[0m \u001b[0mby\u001b[0m\u001b[1;33m=\u001b[0m\u001b[0mBy\u001b[0m\u001b[1;33m.\u001b[0m\u001b[0mID\u001b[0m\u001b[1;33m,\u001b[0m \u001b[0mvalue\u001b[0m\u001b[1;33m=\u001b[0m\u001b[1;32mNone\u001b[0m\u001b[1;33m)\u001b[0m\u001b[1;33m:\u001b[0m\u001b[1;33m\u001b[0m\u001b[1;33m\u001b[0m\u001b[0m\n",
      "\u001b[1;32m~\\Anaconda3\\lib\\site-packages\\selenium\\webdriver\\remote\\webdriver.py\u001b[0m in \u001b[0;36mexecute\u001b[1;34m(self, driver_command, params)\u001b[0m\n\u001b[0;32m    319\u001b[0m         \u001b[0mresponse\u001b[0m \u001b[1;33m=\u001b[0m \u001b[0mself\u001b[0m\u001b[1;33m.\u001b[0m\u001b[0mcommand_executor\u001b[0m\u001b[1;33m.\u001b[0m\u001b[0mexecute\u001b[0m\u001b[1;33m(\u001b[0m\u001b[0mdriver_command\u001b[0m\u001b[1;33m,\u001b[0m \u001b[0mparams\u001b[0m\u001b[1;33m)\u001b[0m\u001b[1;33m\u001b[0m\u001b[1;33m\u001b[0m\u001b[0m\n\u001b[0;32m    320\u001b[0m         \u001b[1;32mif\u001b[0m \u001b[0mresponse\u001b[0m\u001b[1;33m:\u001b[0m\u001b[1;33m\u001b[0m\u001b[1;33m\u001b[0m\u001b[0m\n\u001b[1;32m--> 321\u001b[1;33m             \u001b[0mself\u001b[0m\u001b[1;33m.\u001b[0m\u001b[0merror_handler\u001b[0m\u001b[1;33m.\u001b[0m\u001b[0mcheck_response\u001b[0m\u001b[1;33m(\u001b[0m\u001b[0mresponse\u001b[0m\u001b[1;33m)\u001b[0m\u001b[1;33m\u001b[0m\u001b[1;33m\u001b[0m\u001b[0m\n\u001b[0m\u001b[0;32m    322\u001b[0m             response['value'] = self._unwrap_value(\n\u001b[0;32m    323\u001b[0m                 response.get('value', None))\n",
      "\u001b[1;32m~\\Anaconda3\\lib\\site-packages\\selenium\\webdriver\\remote\\errorhandler.py\u001b[0m in \u001b[0;36mcheck_response\u001b[1;34m(self, response)\u001b[0m\n\u001b[0;32m    240\u001b[0m                 \u001b[0malert_text\u001b[0m \u001b[1;33m=\u001b[0m \u001b[0mvalue\u001b[0m\u001b[1;33m[\u001b[0m\u001b[1;34m'alert'\u001b[0m\u001b[1;33m]\u001b[0m\u001b[1;33m.\u001b[0m\u001b[0mget\u001b[0m\u001b[1;33m(\u001b[0m\u001b[1;34m'text'\u001b[0m\u001b[1;33m)\u001b[0m\u001b[1;33m\u001b[0m\u001b[1;33m\u001b[0m\u001b[0m\n\u001b[0;32m    241\u001b[0m             \u001b[1;32mraise\u001b[0m \u001b[0mexception_class\u001b[0m\u001b[1;33m(\u001b[0m\u001b[0mmessage\u001b[0m\u001b[1;33m,\u001b[0m \u001b[0mscreen\u001b[0m\u001b[1;33m,\u001b[0m \u001b[0mstacktrace\u001b[0m\u001b[1;33m,\u001b[0m \u001b[0malert_text\u001b[0m\u001b[1;33m)\u001b[0m\u001b[1;33m\u001b[0m\u001b[1;33m\u001b[0m\u001b[0m\n\u001b[1;32m--> 242\u001b[1;33m         \u001b[1;32mraise\u001b[0m \u001b[0mexception_class\u001b[0m\u001b[1;33m(\u001b[0m\u001b[0mmessage\u001b[0m\u001b[1;33m,\u001b[0m \u001b[0mscreen\u001b[0m\u001b[1;33m,\u001b[0m \u001b[0mstacktrace\u001b[0m\u001b[1;33m)\u001b[0m\u001b[1;33m\u001b[0m\u001b[1;33m\u001b[0m\u001b[0m\n\u001b[0m\u001b[0;32m    243\u001b[0m \u001b[1;33m\u001b[0m\u001b[0m\n\u001b[0;32m    244\u001b[0m     \u001b[1;32mdef\u001b[0m \u001b[0m_value_or_default\u001b[0m\u001b[1;33m(\u001b[0m\u001b[0mself\u001b[0m\u001b[1;33m,\u001b[0m \u001b[0mobj\u001b[0m\u001b[1;33m,\u001b[0m \u001b[0mkey\u001b[0m\u001b[1;33m,\u001b[0m \u001b[0mdefault\u001b[0m\u001b[1;33m)\u001b[0m\u001b[1;33m:\u001b[0m\u001b[1;33m\u001b[0m\u001b[1;33m\u001b[0m\u001b[0m\n",
      "\u001b[1;31mNoSuchElementException\u001b[0m: Message: no such element: Unable to locate element: {\"method\":\"css selector\",\"selector\":\"[id=\"email\"]\"}\n  (Session info: chrome=84.0.4147.135)\n"
     ]
    }
   ],
   "source": [
    "from selenium import webdriver  \n",
    "import time  \n",
    "from selenium.webdriver.common.keys import Keys  \n",
    "print(\"test case started\")  \n",
    "#open Google Chrome browser  \n",
    "#driver = webdriver.Firefox(executable_path=r\"F:\\geckodriver-v0.27.0-win64\\geckodriver.exe\")\n",
    "driver= webdriver.Chrome(\"C:\\Program Files (x86)\\Google\\Chrome\\chromedriver.exe\") \n",
    "  \n",
    "#navigate to the url  \n",
    "driver.get(\"https://www.facebook.com/\")  \n",
    "#identify the user name text box and enter the value  \n",
    "driver.find_element_by_id(\"email\").send_keys(\"\")  \n",
    "time.sleep(2)  \n",
    "#click on the next button\n",
    "\n",
    "# driver.find_element_by_id(\"yDmH0d\").click()  \n",
    "# time.sleep(3)  \n",
    "#identify the password text box and enter the value   \n",
    "driver.find_element_by_id(\"pass\").send_keys(\"\")  \n",
    "time.sleep(3)\n",
    "#click on the next button \n",
    "driver.find_element_by_id(\"u_0_b\").click()  \n",
    "time.sleep(3)  \n",
    "print(\"Gmail login has been successfully completed\")  "
   ]
  },
  {
   "cell_type": "code",
   "execution_count": null,
   "metadata": {},
   "outputs": [],
   "source": []
  },
  {
   "cell_type": "code",
   "execution_count": null,
   "metadata": {},
   "outputs": [],
   "source": []
  },
  {
   "cell_type": "code",
   "execution_count": null,
   "metadata": {},
   "outputs": [],
   "source": []
  },
  {
   "cell_type": "code",
   "execution_count": null,
   "metadata": {},
   "outputs": [],
   "source": []
  },
  {
   "cell_type": "code",
   "execution_count": null,
   "metadata": {},
   "outputs": [],
   "source": []
  },
  {
   "cell_type": "code",
   "execution_count": null,
   "metadata": {},
   "outputs": [],
   "source": []
  },
  {
   "cell_type": "code",
   "execution_count": null,
   "metadata": {},
   "outputs": [],
   "source": [
    "#import Selenium as se\n",
    "from selenium import webdriver \n",
    "from selenium.webdriver.common.keys import Keys  \n",
    "\n",
    "driver = webdriver.Firefox(executable_path=r\"F:\\geckodriver-v0.27.0-win64\\geckodriver.exe\")\n",
    "driver.fullscreen_window()\n",
    "driver.maximize_window()\n",
    "driver.get(\"https://docs.google.com/forms/d/e/1FAIpQLSfMNIxV980JFjZ639Z-yzmMqKVrC37oXVbEjzbboniyBhK_sw/viewform\")\n",
    "driver.find_element_by_xpath(\"/html/body/div/div[2]/form/div[2]/div/div[2]/div[1]/div/div/div[2]/div/div[1]/div/div[1]/input\").send_keys(\"Siddhid\")\n",
    "time.sleep(2) \n",
    "driver.find_element_by_xpath(\"/html/body/div/div[2]/form/div[2]/div/div[2]/div[2]/div/div/div[2]/div/div[1]/div/div[1]/input\").send_keys(\"gopujkarsiddhid@gmail.com\")\n",
    "time.sleep(2) \n",
    "driver.find_element_by_xpath(\"/html/body/div/div[2]/form/div[2]/div/div[3]/div[1]/div/div/span/span\").click()\n",
    "time.sleep(2) \n"
   ]
  },
  {
   "cell_type": "code",
   "execution_count": null,
   "metadata": {},
   "outputs": [],
   "source": []
  },
  {
   "cell_type": "code",
   "execution_count": null,
   "metadata": {},
   "outputs": [],
   "source": [
    "Create and display a 1d array like object contaiing an array of data using pandas module\n",
    "create a employee dataframe having data like name,salary,gender,designation.\n",
    "    find\n",
    "        -Employee havijng max salary"
   ]
  },
  {
   "cell_type": "code",
   "execution_count": null,
   "metadata": {},
   "outputs": [],
   "source": []
  },
  {
   "cell_type": "code",
   "execution_count": null,
   "metadata": {},
   "outputs": [],
   "source": []
  },
  {
   "cell_type": "code",
   "execution_count": null,
   "metadata": {},
   "outputs": [],
   "source": []
  },
  {
   "cell_type": "code",
   "execution_count": null,
   "metadata": {},
   "outputs": [],
   "source": []
  },
  {
   "cell_type": "code",
   "execution_count": 1,
   "metadata": {},
   "outputs": [
    {
     "name": "stdout",
     "output_type": "stream",
     "text": [
      "Message sent successfuly\n"
     ]
    }
   ],
   "source": [
    "from selenium import webdriver \n",
    "from selenium.webdriver.common.keys import Keys  \n",
    "import time \n",
    "driver = webdriver.Firefox(executable_path=r\"F:\\geckodriver-v0.27.0-win64\\geckodriver.exe\")\n",
    "driver.fullscreen_window()\n",
    "driver.maximize_window()\n",
    "driver.get(\"https://web.whatsapp.com/\")\n",
    "time.sleep(15)\n",
    "link = \"https://web.whatsapp.com/send?phone={}&text&source&data&app_absent\".format(91)\n",
    "driver.get(link)\n",
    "time.sleep(10)\n",
    "input_box = driver.find_element_by_xpath('//*[@id=\"main\"]/footer/div[1]/div[2]/div/div[2]')\n",
    "message=\"Hello!... This Message is sent using python\"\n",
    "for ch in message:\n",
    "    if ch == \"\\n\":\n",
    "        ActionChains(driver).key_down(Keys.SHIFT).key_down(Keys.ENTER).key_up(Keys.ENTER).key_up(Keys.SHIFT).key_up(Keys.BACKSPACE).perform()\n",
    "    else:\n",
    "        input_box.send_keys(ch)\n",
    "input_box.send_keys(Keys.ENTER)\n",
    "print(\"Message sent successfuly\")"
   ]
  },
  {
   "cell_type": "code",
   "execution_count": null,
   "metadata": {},
   "outputs": [],
   "source": []
  },
  {
   "cell_type": "code",
   "execution_count": null,
   "metadata": {},
   "outputs": [],
   "source": []
  },
  {
   "cell_type": "code",
   "execution_count": null,
   "metadata": {},
   "outputs": [],
   "source": []
  },
  {
   "cell_type": "code",
   "execution_count": null,
   "metadata": {},
   "outputs": [],
   "source": []
  },
  {
   "cell_type": "code",
   "execution_count": null,
   "metadata": {},
   "outputs": [],
   "source": []
  },
  {
   "cell_type": "code",
   "execution_count": null,
   "metadata": {},
   "outputs": [],
   "source": []
  },
  {
   "cell_type": "code",
   "execution_count": 2,
   "metadata": {},
   "outputs": [
    {
     "name": "stdout",
     "output_type": "stream",
     "text": [
      "\n",
      "Email address *\n"
     ]
    }
   ],
   "source": [
    "from selenium import webdriver\n",
    "from time import sleep\n",
    "\n",
    "# class google():\n",
    "#     def _init_(self, username, password):\n",
    "\n",
    "#         #self.driver = webdriver.Chrome('D:\\gecko\\chromedriver.exe')\n",
    "#         self.driver = webdriver.Firefox(executable_path=r\"F:\\geckodriver-v0.27.0-win64\\geckodriver.exe\")\n",
    "#         self.driver.get('https://stackoverflow.com/users/signup?ssrc=head&returnurl=%2fusers%2fstory%2fcurrent%27')\n",
    "#         sleep(3)\n",
    "#         self.driver.find_element_by_xpath('//*[@id=\"openid-buttons\"]/button[1]').click()\n",
    "#         self.driver.find_element_by_xpath('//input[@type=\"email\"]').send_keys(username)\n",
    "#         self.driver.find_element_by_xpath('//*[@id=\"identifierNext\"]').click()\n",
    "#         sleep(3)\n",
    "#         self.driver.find_element_by_xpath('//input[@type=\"password\"]').send_keys(password)\n",
    "#         self.driver.find_element_by_xpath('//*[@id=\"passwordNext\"]').click()\n",
    "#         sleep(2)\n",
    "#         self.driver.get(\"https://docs.google.com/forms/d/e/1FAIpQLScCxZ1s0Wd7Wl1Uu-EMZDL2bYq7ljS4lPqwLdpAV7sqGljC4w/viewform?usp=sf_link\")\n",
    "#         #print(driver.title)\n",
    "\n",
    "#         e_mail=self.driver.find_element_by_xpath('/html/body/div/div[2]/form/div[2]/div/div[2]/div[1]/div[1]/div[2]/div[1]/div/div[1]/input').click()\n",
    "#         enter=self.driver.find_element_by_xpath('/html/body/div/div[2]/form/div[2]/div/div[2]/div[1]/div[1]/div[2]/div[1]/div/div[1]/input')\n",
    "#         enter.send_keys(\"randap.tu.hi.hai@moo.me.le.mera.com\")\n",
    "\n",
    "#         e_mail=self.driver.find_element_by_xpath('/html/body/div/div[2]/form/div[2]/div/div[2]/div[2]/div/div/div[2]/div/div[1]/div/div[1]/input').click()\n",
    "#         enter=self.driver.fi`nd_element_by_xpath('/html/body/div/div[2]/form/div[2]/div/div[2]/div[2]/div/div/div[2]/div/div[1]/div/div[1]/input')\n",
    "#         enter.send_keys(\"hij\")\n",
    "\n",
    "#         #e_mail=self.driver.find_element_by_xpath('/html/body/div/div[2]/form/div[2]/div/div[3]/div[1]/div/div/span/span').click()\n",
    "        \n",
    "username =\"\"\n",
    "password =\"\"\n",
    "#self.driver = webdriver.Chrome('D:\\gecko\\chromedriver.exe')\n",
    "driver = webdriver.Firefox(executable_path=r\"F:\\geckodriver-v0.27.0-win64\\geckodriver.exe\")\n",
    "driver.get('https://stackoverflow.com/users/signup?ssrc=head&returnurl=%2fusers%2fstory%2fcurrent%27')\n",
    "sleep(3)\n",
    "driver.find_element_by_xpath('//*[@id=\"openid-buttons\"]/button[1]').click()\n",
    "driver.find_element_by_xpath('//input[@type=\"email\"]').send_keys(username)\n",
    "driver.find_element_by_xpath('//*[@id=\"identifierNext\"]').click()\n",
    "sleep(3)\n",
    "driver.find_element_by_xpath('//input[@type=\"password\"]').send_keys(password)\n",
    "driver.find_element_by_xpath('//*[@id=\"passwordNext\"]').click()\n",
    "sleep(2)\n",
    "driver.get(\"https://docs.google.com/forms/d/e/1FAIpQLScCxZ1s0Wd7Wl1Uu-EMZDL2bYq7ljS4lPqwLdpAV7sqGljC4w/viewform?usp=sf_link\")\n",
    "#print(driver.title)\n",
    "\n",
    "# e_mail=driver.find_element_by_xpath('/html/body/div/div[3]/form/div[2]/div/div[2]/div[1]/div[1]/div[2]/div[1]/div/div[1]/input').click()\n",
    "enter=driver.find_element_by_xpath('/html/body/div/div[3]/form/div[2]/div/div[2]/div[1]/div[1]/div[2]/div[1]/div/div[1]/input')\n",
    "enter.send_keys(\"randap.tu.hi.hai@moo.me.le.mera.com\")\n",
    "print(enter.text)\n",
    "# e_mail=driver.find_element_by_xpath('/html/body/div/div[2]/form/div[2]/div/div[2]/div[2]/div/div/div[2]/div/div[1]/div/div[1]/input').click()\n",
    "\n",
    "enter=driver.find_element_by_xpath('/html/body/div/div[3]/form/div[2]/div/div[2]/div[2]/div/div/div[2]/div/div[1]/div/div[1]/input')\n",
    "enter.send_keys(\"hij\")\n",
    "\n",
    "box=driver.find_element_by_xpath(\"/html/body/div/div[3]/form/div[2]/div/div[2]/div[1]\")\n",
    "print(box.text)\n",
    "#e_mail=self.driver.find_element_by_xpath('/html/body/div/div[2]/form/div[2]/div/div[3]/div[1]/div/div/span/span').click()\n",
    "\n"
   ]
  },
  {
   "cell_type": "code",
   "execution_count": null,
   "metadata": {},
   "outputs": [],
   "source": []
  },
  {
   "cell_type": "code",
   "execution_count": null,
   "metadata": {},
   "outputs": [],
   "source": []
  },
  {
   "cell_type": "code",
   "execution_count": null,
   "metadata": {},
   "outputs": [],
   "source": [
    "from selenium import webdriver\n",
    "from time import sleep\n",
    "       \n",
    "username =\"fortynights200@gmail.com\"\n",
    "password =\"bring hell to me\"\n",
    "#from msedge.selenium_tools import EdgeOptions\n",
    "from selenium.webdriver.common.keys import Keys\n",
    "from selenium.webdriver.edge.options import Options\n",
    "options = Options()\n",
    "options.use_chromium = True\n",
    "#options.add_argument(\"--disable-web-security\")\n",
    "#driver = webdriver.edge(options = \"enable-automation\")\n",
    "driver = webdriver.Edge(options=\"--disable-web-security\",executable_path=r'C:\\Users\\DELL\\msedgedriver.exe')\n",
    "\n",
    "#self.driver = webdriver.Chrome('D:\\gecko\\chromedriver.exe')\n",
    "#driver = webdriver.Firefox(executable_path=r\"F:\\geckodriver-v0.27.0-win64\\geckodriver.exe\")\n",
    "driver.get('https://www.udemy.com/join/login-popup/')\n",
    "driver.maximize_window()\n",
    "sleep(3)\n",
    "driver.find_element_by_xpath('/html/body/div[1]/div[2]/div[1]/div[3]/form/div[1]/div[1]/div/input').click()\n",
    "driver.find_element_by_xpath('/html/body/div[1]/div[2]/div[1]/div[3]/form/div[1]/div[1]/div/input').send_keys(username)\n",
    "driver.find_element_by_xpath('/html/body/div[1]/div[2]/div[1]/div[3]/form/div[1]/div[2]/div/input').click()\n",
    "driver.find_element_by_xpath('/html/body/div[1]/div[2]/div[1]/div[3]/form/div[1]/div[2]/div/input').send_keys(password)\n",
    "driver.find_element_by_xpath('/html/body/div[1]/div[2]/div[1]/div[3]/form/div[2]/div/input').click()\n",
    "sleep(2)\n",
    "#driver.get(\"https://docs.google.com/forms/d/e/1FAIpQLScCxZ1s0Wd7Wl1Uu-EMZDL2bYq7ljS4lPqwLdpAV7sqGljC4w/viewform?usp=sf_link\")\n",
    "#print(driver.title)\n",
    "\n",
    "# e_mail=driver.find_element_by_xpath('/html/body/div/div[3]/form/div[2]/div/div[2]/div[1]/div[1]/div[2]/div[1]/div/div[1]/input').click()\n",
    "#enter.send_keys(\"randap.tu.hi.hai@moo.me.le.mera.com\")\n",
    "#print(enter.text)\n",
    "# e_mail=driver.find_element_by_xpath('/html/body/div/div[2]/form/div[2]/div/div[2]/div[2]/div/div/div[2]/div/div[1]/div/div[1]/input').click()\n",
    "\n",
    "#enter=driver.find_element_by_xpath('/html/body/div/div[3]/form/div[2]/div/div[2]/div[2]/div/div/div[2]/div/div[1]/div/div[1]/input')\n",
    "#enter.send_keys(\"hij\")\n",
    "\n",
    "#box=driver.find_element_by_xpath(\"/html/body/div/div[3]/form/div[2]/div/div[2]/div[1]\")\n",
    "#print(box.text)\n",
    "#e_mail=self.driver.find_element_by_xpath('/html/body/div/div[2]/form/div[2]/div/div[3]/div[1]/div/div/span/span').click()"
   ]
  },
  {
   "cell_type": "code",
   "execution_count": null,
   "metadata": {},
   "outputs": [],
   "source": []
  },
  {
   "cell_type": "code",
   "execution_count": null,
   "metadata": {},
   "outputs": [],
   "source": []
  },
  {
   "cell_type": "code",
   "execution_count": 17,
   "metadata": {},
   "outputs": [],
   "source": [
    "# ADA lecture Apurva mam\n",
    "# enrollment number:-//*[@id=\"mG61Hd\"]/div[2]/div/div[2]/div[1]/div/div/div[2]/div/div[1]/div/div[1]/input\n",
    "#division:-  //*[@id=\"i9\"]/div[3]/div\n",
    "#name:- //*[@id=\"mG61Hd\"]/div[2]/div/div[2]/div[3]/div/div/div[2]/div/div[1]/div/div[3]"
   ]
  },
  {
   "cell_type": "code",
   "execution_count": 1,
   "metadata": {},
   "outputs": [],
   "source": [
    "#SNR CG attendence\n"
   ]
  },
  {
   "cell_type": "code",
   "execution_count": null,
   "metadata": {},
   "outputs": [],
   "source": []
  },
  {
   "cell_type": "code",
   "execution_count": 16,
   "metadata": {},
   "outputs": [
    {
     "name": "stdout",
     "output_type": "stream",
     "text": [
      "Name of the File :  data.txt\n",
      "Read String is till 10       :  b'Hello worl'\n",
      "Current Position             :  10\n",
      "Read String is till next 10  :  b'd, how are'\n",
      "Current Position             :  20\n",
      "\n",
      "Sending Pointer back to Top\n",
      "Current Position             :  0\n",
      "Read String is till 25       :  b'Hello world, how are you?'\n",
      "Current Position             :  25\n"
     ]
    }
   ],
   "source": [
    "# file handling in python\n",
    "\n",
    "def main():\n",
    "    fo = open(\"data.txt\",\"wb\")\n",
    "    str=\"Hello world, how are you? Here, you are learning python\"\n",
    "    array1 = bytearray(str, 'utf-8') \n",
    "    fo.write(array1)\n",
    "    fo.close()\n",
    "    fo = open(\"data.txt\",\"rb\")\n",
    "    print(\"Name of the File : \",fo.name)\n",
    "    str=fo.read(10)\n",
    "    print(\"Read String is till 10       : \",str)\n",
    "    pos= fo.tell()\n",
    "    print(\"Current Position             : \",pos)\n",
    "    str=fo.read(10)\n",
    "    print(\"Read String is till next 10  : \",str)\n",
    "    pos= fo.tell()\n",
    "    print(\"Current Position             : \",pos)\n",
    "    print()\n",
    "    print(\"Sending Pointer back to Top\")\n",
    "    pos = fo.seek(0,0)\n",
    "    print(\"Current Position             : \",pos)\n",
    "    str=fo.read(25)\n",
    "    print(\"Read String is till 25       : \",str)\n",
    "    pos= fo.tell()\n",
    "    print(\"Current Position             : \",pos)\n",
    "    fo.close()\n",
    "if __name__==\"__main__\":main()\n"
   ]
  },
  {
   "cell_type": "code",
   "execution_count": 35,
   "metadata": {},
   "outputs": [
    {
     "name": "stdout",
     "output_type": "stream",
     "text": [
      "b'Hello w'\n",
      "7\n",
      "5\n",
      "b' worl'\n"
     ]
    }
   ],
   "source": [
    "f = open(\"data1.txt\",\"rb+\")\n",
    "str=\"Hello world, how, abc\"\n",
    "array1 = bytearray(str, 'utf-8') \n",
    "# f.write(array1)\n",
    "# f.close()\n",
    "print(f.read(7))\n",
    "print(f.tell())\n",
    "pos=f.seek(5,0)\n",
    "print(pos)\n",
    "print(f.read(pos))"
   ]
  },
  {
   "cell_type": "code",
   "execution_count": null,
   "metadata": {},
   "outputs": [],
   "source": []
  },
  {
   "cell_type": "code",
   "execution_count": null,
   "metadata": {},
   "outputs": [],
   "source": []
  },
  {
   "cell_type": "code",
   "execution_count": null,
   "metadata": {},
   "outputs": [],
   "source": []
  },
  {
   "cell_type": "code",
   "execution_count": null,
   "metadata": {},
   "outputs": [],
   "source": []
  },
  {
   "cell_type": "code",
   "execution_count": null,
   "metadata": {},
   "outputs": [],
   "source": []
  },
  {
   "cell_type": "code",
   "execution_count": null,
   "metadata": {},
   "outputs": [],
   "source": []
  },
  {
   "cell_type": "code",
   "execution_count": 4,
   "metadata": {},
   "outputs": [
    {
     "data": {
      "text/plain": [
       "('google_logo.jpg', <http.client.HTTPMessage at 0x2d10ae5aac8>)"
      ]
     },
     "execution_count": 4,
     "metadata": {},
     "output_type": "execute_result"
    }
   ],
   "source": [
    "import urllib.request\n",
    "urllib.request.urlopen(\"https://cdn.vox-cdn.com/thumbor/E9RM8-qg-iyLEAzP4d7tobqI09o=/0x0:2012x1341/1400x933/filters:focal(0x0:2012x1341):no_upscale()/cdn.vox-cdn.com/uploads/chorus_image/image/47070706/google2.0.0.jpg\")\n",
    "urllib.request.urlretrieve(\"https://cdn.vox-cdn.com/thumbor/E9RM8-qg-iyLEAzP4d7tobqI09o=/0x0:2012x1341/1400x933/filters:focal(0x0:2012x1341):no_upscale()/cdn.vox-cdn.com/uploads/chorus_image/image/47070706/google2.0.0.jpg\", \"google_logo.jpg\")"
   ]
  },
  {
   "cell_type": "code",
   "execution_count": null,
   "metadata": {},
   "outputs": [],
   "source": []
  },
  {
   "cell_type": "code",
   "execution_count": null,
   "metadata": {},
   "outputs": [],
   "source": []
  },
  {
   "cell_type": "code",
   "execution_count": null,
   "metadata": {},
   "outputs": [],
   "source": []
  },
  {
   "cell_type": "code",
   "execution_count": null,
   "metadata": {},
   "outputs": [],
   "source": []
  },
  {
   "cell_type": "code",
   "execution_count": null,
   "metadata": {},
   "outputs": [],
   "source": []
  },
  {
   "cell_type": "code",
   "execution_count": null,
   "metadata": {},
   "outputs": [],
   "source": []
  },
  {
   "cell_type": "code",
   "execution_count": 3,
   "metadata": {},
   "outputs": [
    {
     "name": "stdout",
     "output_type": "stream",
     "text": [
      "normal:mp4@640x360\n",
      "normal:mp4@1280x720\n",
      "1280x720 mp4\n",
      "  42,966,514.0 Bytes [100.00%] received. Rate: [3585 KB/s].  ETA: [0 secs]    \n",
      "Video Downloaded Successfully\n"
     ]
    }
   ],
   "source": [
    "#Youtube Video downloader\n",
    "import pafy\n",
    "url= 'https://www.youtube.com/watch?v=8n49WTTPaM0'\n",
    "video=pafy.new(url)\n",
    "\n",
    "streams= video.streams\n",
    "\n",
    "for i in streams:\n",
    "    print(i)\n",
    "    \n",
    "best= video.getbest()\n",
    "print(best.resolution, best.extension)\n",
    "\n",
    "best.download()\n",
    "print(\"Video Downloaded Successfully\")"
   ]
  },
  {
   "cell_type": "code",
   "execution_count": 2,
   "metadata": {},
   "outputs": [
    {
     "name": "stdout",
     "output_type": "stream",
     "text": [
      "Collecting pafy\n",
      "  Downloading pafy-0.5.5-py2.py3-none-any.whl (35 kB)\n",
      "Installing collected packages: pafy\n",
      "Successfully installed pafy-0.5.5\n",
      "Note: you may need to restart the kernel to use updated packages.\n"
     ]
    },
    {
     "name": "stderr",
     "output_type": "stream",
     "text": [
      "WARNING: You are using pip version 20.2.2; however, version 20.2.4 is available.\n",
      "You should consider upgrading via the 'C:\\Users\\Siddhidi\\Anaconda3\\python.exe -m pip install --upgrade pip' command.\n"
     ]
    }
   ],
   "source": [
    "pip install pafy"
   ]
  },
  {
   "cell_type": "code",
   "execution_count": null,
   "metadata": {},
   "outputs": [],
   "source": []
  }
 ],
 "metadata": {
  "kernelspec": {
   "display_name": "Python 3 (ipykernel)",
   "language": "python",
   "name": "python3"
  },
  "language_info": {
   "codemirror_mode": {
    "name": "ipython",
    "version": 3
   },
   "file_extension": ".py",
   "mimetype": "text/x-python",
   "name": "python",
   "nbconvert_exporter": "python",
   "pygments_lexer": "ipython3",
   "version": "3.9.7"
  }
 },
 "nbformat": 4,
 "nbformat_minor": 2
}
